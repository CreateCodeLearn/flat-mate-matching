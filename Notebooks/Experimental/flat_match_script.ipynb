{
 "cells": [
  {
   "cell_type": "code",
   "execution_count": null,
   "metadata": {},
   "outputs": [],
   "source": [
    "#%%writefile ./flat_match.py\n",
    "def flat_match (v_location,v_gender,v_rent,v_lowerage,v_upperage, filepath):\n",
    "    '''\n",
    "    Provides the dataset in CSV and based on input data uses booleans\n",
    "    to subset the data to give the flats ranked according rent with cheapest\n",
    "    showing first\n",
    "    '''\n",
    "    import pandas as pd\n",
    "    \n",
    "    def transform_data(dataframe):\n",
    "        dd = dict()\n",
    "        index = dataframe.sort_values(\"rent\").index.tolist()\n",
    "        for i in index:\n",
    "            dd[i] = dataframe.loc[i].to_dict()\n",
    "        return dd, index\n",
    "    \n",
    "    data = pd.read_csv(filepath, index_col=0) \n",
    "    \n",
    "    boolean_location = data[\"location\"] == v_location\n",
    "    boolean_gender = data[\"gender\"] == v_gender\n",
    "    boolean_rent = data[\"rent\"] <= v_rent\n",
    "    boolean_upperage = data[\"lowerage\"] >= v_lowerage\n",
    "    boolean_upperage = data[\"upperage\"] <= v_upperage\n",
    "    \n",
    "    user_constraints = boolean_location & boolean_gender & boolean_rent & boolean_lowerage & boolean_upperage\n",
    "    results = data.loc[user_constraints]\n",
    "    \n",
    "    return transform_data(results)"
   ]
  }
 ],
 "metadata": {
  "kernelspec": {
   "display_name": "Python 3",
   "language": "python",
   "name": "python3"
  },
  "language_info": {
   "codemirror_mode": {
    "name": "ipython",
    "version": 3
   },
   "file_extension": ".py",
   "mimetype": "text/x-python",
   "name": "python",
   "nbconvert_exporter": "python",
   "pygments_lexer": "ipython3",
   "version": "3.6.5"
  }
 },
 "nbformat": 4,
 "nbformat_minor": 2
}
