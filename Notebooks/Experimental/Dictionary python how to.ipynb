{
 "cells": [
  {
   "cell_type": "markdown",
   "metadata": {},
   "source": [
    "## Load serialzed file "
   ]
  },
  {
   "cell_type": "code",
   "execution_count": 24,
   "metadata": {},
   "outputs": [],
   "source": [
    "import pickle\n",
    "\n",
    "my_path_to_file = \"../../data/fake_dict_data.p\"\n",
    "\n",
    "data_dict, order_list = pickle.load( open( my_path_to_file , \"rb\" ) )\n"
   ]
  },
  {
   "cell_type": "code",
   "execution_count": 25,
   "metadata": {},
   "outputs": [
    {
     "data": {
      "text/plain": [
       "{18: {'Location': 'Wilmersdorf',\n",
       "  'Gender': 'Female',\n",
       "  'Rent': 600,\n",
       "  'lowerage': 30,\n",
       "  'upperage': 49},\n",
       " 3: {'Location': 'Neukolln',\n",
       "  'Gender': 'Male',\n",
       "  'Rent': 300,\n",
       "  'lowerage': 21,\n",
       "  'upperage': 32},\n",
       " 15: {'Location': 'Prenzlauer Berg',\n",
       "  'Gender': 'Female',\n",
       "  'Rent': 600,\n",
       "  'lowerage': 32,\n",
       "  'upperage': 51},\n",
       " 19: {'Location': 'Pankow',\n",
       "  'Gender': 'Male',\n",
       "  'Rent': 500,\n",
       "  'lowerage': 23,\n",
       "  'upperage': 25},\n",
       " 2: {'Location': 'Steglitz',\n",
       "  'Gender': 'Female',\n",
       "  'Rent': 550,\n",
       "  'lowerage': 49,\n",
       "  'upperage': 63},\n",
       " 8: {'Location': 'Pankow',\n",
       "  'Gender': 'Female',\n",
       "  'Rent': 600,\n",
       "  'lowerage': 18,\n",
       "  'upperage': 28},\n",
       " 5: {'Location': 'Tiergarten',\n",
       "  'Gender': 'Unknown',\n",
       "  'Rent': 650,\n",
       "  'lowerage': 23,\n",
       "  'upperage': 34},\n",
       " 11: {'Location': 'Weissensee',\n",
       "  'Gender': 'Female',\n",
       "  'Rent': 500,\n",
       "  'lowerage': 46,\n",
       "  'upperage': 59}}"
      ]
     },
     "execution_count": 25,
     "metadata": {},
     "output_type": "execute_result"
    }
   ],
   "source": [
    "# stores the best picks\n",
    "data_dict"
   ]
  },
  {
   "cell_type": "code",
   "execution_count": 26,
   "metadata": {},
   "outputs": [
    {
     "data": {
      "text/plain": [
       "[3, 19, 11, 2, 18, 15, 8, 5]"
      ]
     },
     "execution_count": 26,
     "metadata": {},
     "output_type": "execute_result"
    }
   ],
   "source": [
    "# gives the order of the best price\n",
    "order_list"
   ]
  },
  {
   "cell_type": "markdown",
   "metadata": {},
   "source": [
    "## Assess the data with Python"
   ]
  },
  {
   "cell_type": "code",
   "execution_count": 27,
   "metadata": {},
   "outputs": [
    {
     "name": "stdout",
     "output_type": "stream",
     "text": [
      "{'Location': 'Neukolln', 'Gender': 'Male', 'Rent': 300, 'lowerage': 21, 'upperage': 32}\n",
      "{'Location': 'Pankow', 'Gender': 'Male', 'Rent': 500, 'lowerage': 23, 'upperage': 25}\n",
      "{'Location': 'Wilmersdorf', 'Gender': 'Female', 'Rent': 600, 'lowerage': 30, 'upperage': 49}\n"
     ]
    }
   ],
   "source": [
    "# order based on price get cheapest\n",
    "print(data_dict.get(order_list[0]))\n",
    "\n",
    "# order based on price get 2nd cheapest\n",
    "print(data_dict.get(order_list[1]))\n",
    "\n",
    "# order based on price get 5nd cheapest\n",
    "print(data_dict.get(order_list[4]))\n"
   ]
  },
  {
   "cell_type": "code",
   "execution_count": 28,
   "metadata": {},
   "outputs": [
    {
     "name": "stdout",
     "output_type": "stream",
     "text": [
      "{'Location': 'Neukolln', 'Gender': 'Male', 'Rent': 300, 'lowerage': 21, 'upperage': 32}\n",
      "{'Location': 'Pankow', 'Gender': 'Male', 'Rent': 500, 'lowerage': 23, 'upperage': 25}\n",
      "{'Location': 'Weissensee', 'Gender': 'Female', 'Rent': 500, 'lowerage': 46, 'upperage': 59}\n",
      "{'Location': 'Steglitz', 'Gender': 'Female', 'Rent': 550, 'lowerage': 49, 'upperage': 63}\n",
      "{'Location': 'Wilmersdorf', 'Gender': 'Female', 'Rent': 600, 'lowerage': 30, 'upperage': 49}\n",
      "{'Location': 'Prenzlauer Berg', 'Gender': 'Female', 'Rent': 600, 'lowerage': 32, 'upperage': 51}\n",
      "{'Location': 'Pankow', 'Gender': 'Female', 'Rent': 600, 'lowerage': 18, 'upperage': 28}\n",
      "{'Location': 'Tiergarten', 'Gender': 'Unknown', 'Rent': 650, 'lowerage': 23, 'upperage': 34}\n"
     ]
    }
   ],
   "source": [
    "# order based on price\n",
    "for item in order_list:\n",
    "    print(data_dict.get(item))"
   ]
  },
  {
   "cell_type": "code",
   "execution_count": 29,
   "metadata": {},
   "outputs": [
    {
     "name": "stdout",
     "output_type": "stream",
     "text": [
      "Male\n",
      "Male\n",
      "Female\n",
      "Female\n",
      "Female\n",
      "Female\n",
      "Female\n",
      "Unknown\n"
     ]
    }
   ],
   "source": [
    "# order based on price just get on feature e.g. Gender\n",
    "for item in order_list:\n",
    "    print(data_dict.get(item).get(\"Gender\"))"
   ]
  },
  {
   "cell_type": "code",
   "execution_count": null,
   "metadata": {},
   "outputs": [],
   "source": []
  },
  {
   "cell_type": "code",
   "execution_count": null,
   "metadata": {},
   "outputs": [],
   "source": []
  },
  {
   "cell_type": "code",
   "execution_count": null,
   "metadata": {},
   "outputs": [],
   "source": []
  }
 ],
 "metadata": {
  "kernelspec": {
   "display_name": "Python 3",
   "language": "python",
   "name": "python3"
  },
  "language_info": {
   "codemirror_mode": {
    "name": "ipython",
    "version": 3
   },
   "file_extension": ".py",
   "mimetype": "text/x-python",
   "name": "python",
   "nbconvert_exporter": "python",
   "pygments_lexer": "ipython3",
   "version": "3.6.5"
  }
 },
 "nbformat": 4,
 "nbformat_minor": 2
}
